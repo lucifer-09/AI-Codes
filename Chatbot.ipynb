{
 "cells": [
  {
   "cell_type": "code",
   "execution_count": null,
   "id": "ccd0fabb",
   "metadata": {},
   "outputs": [],
   "source": []
  },
  {
   "cell_type": "code",
   "execution_count": null,
   "id": "0f3e3741",
   "metadata": {},
   "outputs": [
    {
     "name": "stdout",
     "output_type": "stream",
     "text": [
      "User: hello\n",
      "Bot: Welcome!\n",
      "User: help\n",
      "Bot: What do you need help with?\n",
      "User: goobye\n",
      "Bot: See you later!\n"
     ]
    }
   ],
   "source": [
    "import random\n",
    "\n",
    "responses = {\n",
    "    \"greeting\": [\"Hello!\", \"Hi there!\", \"Welcome!\"],\n",
    "    \"farewell\": [\"Goodbye!\", \"See you later!\", \"Take care!\"],\n",
    "    \"help\": [\"How can I assist you?\", \"What do you need help with?\"],\n",
    "}\n",
    "\n",
    "# Function to generate a random response from a list of responses\n",
    "def get_random_response(response_list):\n",
    "    return random.choice(response_list)\n",
    "\n",
    "# Function to handle user inputs and generate appropriate responses\n",
    "def generate_response(user_input):\n",
    "    if \"hello\" in user_input.lower():\n",
    "        return get_random_response(responses[\"greeting\"])\n",
    "    elif \"bye\" in user_input.lower():\n",
    "        return get_random_response(responses[\"farewell\"])\n",
    "    elif \"help\" in user_input.lower():\n",
    "        return get_random_response(responses[\"help\"])\n",
    "    elif \"exit\" in user_input.lower():\n",
    "        return \"Goodbye! Have a great day!\"\n",
    "    else:\n",
    "        return \"I'm sorry, I didn't understand that. Could you please rephrase?\"\n",
    "\n",
    "# Main loop for user interaction\n",
    "while True:\n",
    "    user_input = input(\"User: \")\n",
    "    bot_response = generate_response(user_input)\n",
    "    print(\"Bot: \" + bot_response)\n",
    "    if \"exit\" in user_input.lower():\n",
    "        break"
   ]
  },
  {
   "cell_type": "code",
   "execution_count": null,
   "id": "49796ff8",
   "metadata": {},
   "outputs": [],
   "source": []
  }
 ],
 "metadata": {
  "kernelspec": {
   "display_name": "Python 3 (ipykernel)",
   "language": "python",
   "name": "python3"
  },
  "language_info": {
   "codemirror_mode": {
    "name": "ipython",
    "version": 3
   },
   "file_extension": ".py",
   "mimetype": "text/x-python",
   "name": "python",
   "nbconvert_exporter": "python",
   "pygments_lexer": "ipython3",
   "version": "3.9.13"
  }
 },
 "nbformat": 4,
 "nbformat_minor": 5
}
